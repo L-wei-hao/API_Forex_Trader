{
 "cells": [
  {
   "cell_type": "markdown",
   "id": "7f256b76",
   "metadata": {},
   "source": [
    "## Machine learning Algorithm Trader\n",
    "\n",
    "In this project, we will be using the OANDA v20 REST API  \n",
    "\n",
    "<img style=\"float: left;\" src=\"./images/api.png\">\n",
    "\n",
    "\n"
   ]
  },
  {
   "cell_type": "code",
   "execution_count": 2,
   "id": "354f7dfe",
   "metadata": {
    "ExecuteTime": {
     "end_time": "2022-10-20T05:08:28.767511Z",
     "start_time": "2022-10-20T05:08:23.999214Z"
    }
   },
   "outputs": [],
   "source": [
    "import pandas as pd\n",
    "import numpy as np\n",
    "import v20\n",
    "import tpqoa\n",
    "from datetime import datetime, timedelta\n",
    "import time\n",
    "import keras\n",
    "import pickle\n",
    "from IPython.display import display, Javascript\n",
    "pd.set_option('display.max_columns', None)\n",
    "pd.set_option('display.max_rows', None)"
   ]
  },
  {
   "cell_type": "code",
   "execution_count": 3,
   "id": "5ae7effa",
   "metadata": {
    "scrolled": true
   },
   "outputs": [],
   "source": [
    "oanda = tpqoa.tpqoa('oanda-dnn.cfg')"
   ]
  },
  {
   "cell_type": "code",
   "execution_count": 4,
   "id": "587ec435",
   "metadata": {},
   "outputs": [
    {
     "data": {
      "text/plain": [
       "{'id': '101-003-23224294-011',\n",
       " 'alias': 'API TRADER day 3',\n",
       " 'currency': 'USD',\n",
       " 'balance': '100111.0',\n",
       " 'createdByUserID': 23224294,\n",
       " 'createdTime': '2022-10-21T10:08:10.647717368Z',\n",
       " 'guaranteedStopLossOrderMode': 'ALLOWED',\n",
       " 'pl': '111.0',\n",
       " 'resettablePL': '111.0',\n",
       " 'resettablePLTime': '0',\n",
       " 'financing': '0.0',\n",
       " 'commission': '0.0',\n",
       " 'guaranteedExecutionFees': '0.0',\n",
       " 'marginRate': '0.1',\n",
       " 'openTradeCount': 1,\n",
       " 'openPositionCount': 1,\n",
       " 'pendingOrderCount': 0,\n",
       " 'hedgingEnabled': False,\n",
       " 'unrealizedPL': '-139.0',\n",
       " 'NAV': '99972.0',\n",
       " 'marginUsed': '9715.6',\n",
       " 'marginAvailable': '90256.4',\n",
       " 'positionValue': '97156.0',\n",
       " 'marginCloseoutUnrealizedPL': '-135.0',\n",
       " 'marginCloseoutNAV': '99976.0',\n",
       " 'marginCloseoutMarginUsed': '9715.6',\n",
       " 'marginCloseoutPercent': '0.04859',\n",
       " 'marginCloseoutPositionValue': '97156.0',\n",
       " 'withdrawalLimit': '90256.4',\n",
       " 'marginCallMarginUsed': '9715.6',\n",
       " 'marginCallPercent': '0.09718',\n",
       " 'lastTransactionID': '9'}"
      ]
     },
     "execution_count": 4,
     "metadata": {},
     "output_type": "execute_result"
    }
   ],
   "source": [
    "oanda.get_account_summary()"
   ]
  },
  {
   "cell_type": "code",
   "execution_count": null,
   "id": "81f3e2ca",
   "metadata": {},
   "outputs": [],
   "source": []
  }
 ],
 "metadata": {
  "hide_input": false,
  "kernelspec": {
   "display_name": "Python 3 (ipykernel)",
   "language": "python",
   "name": "python3"
  },
  "language_info": {
   "codemirror_mode": {
    "name": "ipython",
    "version": 3
   },
   "file_extension": ".py",
   "mimetype": "text/x-python",
   "name": "python",
   "nbconvert_exporter": "python",
   "pygments_lexer": "ipython3",
   "version": "3.9.12"
  },
  "varInspector": {
   "cols": {
    "lenName": 16,
    "lenType": 16,
    "lenVar": 40
   },
   "kernels_config": {
    "python": {
     "delete_cmd_postfix": "",
     "delete_cmd_prefix": "del ",
     "library": "var_list.py",
     "varRefreshCmd": "print(var_dic_list())"
    },
    "r": {
     "delete_cmd_postfix": ") ",
     "delete_cmd_prefix": "rm(",
     "library": "var_list.r",
     "varRefreshCmd": "cat(var_dic_list()) "
    }
   },
   "types_to_exclude": [
    "module",
    "function",
    "builtin_function_or_method",
    "instance",
    "_Feature"
   ],
   "window_display": false
  }
 },
 "nbformat": 4,
 "nbformat_minor": 5
}
